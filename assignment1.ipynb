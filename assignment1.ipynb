{
 "cells": [
  {
   "cell_type": "code",
   "execution_count": 3,
   "id": "29263456-04cf-49f0-9b08-3c31f4094cc9",
   "metadata": {},
   "outputs": [
    {
     "name": "stdout",
     "output_type": "stream",
     "text": [
      "Hello! My name is Nadeen Moreb. I am currently a student at birzeit university with the University ID: 1203437 and I am expected to graduate on 2024. The main reason for joining this course is to learn python programming language that is vital in today's world and to learn about data science and data manipulation.\n"
     ]
    }
   ],
   "source": [
    "# Assignment #1\n",
    "# Nadeen Moreb\n",
    "# 1203437\n",
    "\n",
    "# variables definition\n",
    "first_name = \"Nadeen\"\n",
    "last_name = \"Moreb\"\n",
    "university_id = \"1203437\"\n",
    "expected_graduation_date = \"2024\"\n",
    "main_reason_for_joining_the_course = \"to learn python programming language that is vital in today's world and to learn about data science and data manipulation\"\n",
    "\n",
    "# format function \n",
    "about = \"Hello! My name is {} {}. I am currently a student at birzeit university with the University ID: {} and I am expected to graduate on {}. The main reason for joining this course is {}.\".format(\n",
    "    first_name, last_name, university_id, expected_graduation_date, main_reason_for_joining_the_course\n",
    ")\n",
    "\n",
    "#print the result \n",
    "print(about)\n"
   ]
  },
  {
   "cell_type": "code",
   "execution_count": null,
   "id": "54faa7fe-6319-4236-a673-1c5d882b5be6",
   "metadata": {},
   "outputs": [],
   "source": []
  },
  {
   "cell_type": "code",
   "execution_count": null,
   "id": "6835a613-cbe2-4200-8507-8d65f9d296b3",
   "metadata": {},
   "outputs": [],
   "source": []
  },
  {
   "cell_type": "code",
   "execution_count": null,
   "id": "07dca5f5-b913-4b3e-9f92-7158df105e13",
   "metadata": {},
   "outputs": [],
   "source": []
  },
  {
   "cell_type": "code",
   "execution_count": null,
   "id": "9348e74e-6c0e-4fba-b6f1-39d03cc5fb85",
   "metadata": {},
   "outputs": [],
   "source": []
  },
  {
   "cell_type": "code",
   "execution_count": null,
   "id": "d02dd22d-46fb-46bb-885f-4c525d0ad619",
   "metadata": {},
   "outputs": [],
   "source": []
  },
  {
   "cell_type": "code",
   "execution_count": null,
   "id": "d9b0fbcd-bde6-4770-904b-33af0a40b9ff",
   "metadata": {},
   "outputs": [],
   "source": []
  }
 ],
 "metadata": {
  "kernelspec": {
   "display_name": "Python 3 (ipykernel)",
   "language": "python",
   "name": "python3"
  },
  "language_info": {
   "codemirror_mode": {
    "name": "ipython",
    "version": 3
   },
   "file_extension": ".py",
   "mimetype": "text/x-python",
   "name": "python",
   "nbconvert_exporter": "python",
   "pygments_lexer": "ipython3",
   "version": "3.11.7"
  }
 },
 "nbformat": 4,
 "nbformat_minor": 5
}
